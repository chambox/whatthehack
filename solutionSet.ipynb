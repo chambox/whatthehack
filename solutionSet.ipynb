{
 "cells": [
  {
   "cell_type": "markdown",
   "metadata": {},
   "source": [
    "Solution to exercise"
   ]
  },
  {
   "cell_type": "code",
   "execution_count": null,
   "metadata": {},
   "outputs": [],
   "source": [
    "##Set the dimesion of the graph\n",
    "fig=plt.figure(figsize=(18, 18), dpi= 80, facecolor='w', edgecolor='k')\n",
    "\n",
    "##Scatter plot with transperancy, dot sizes and colors\n",
    "plt.scatter(data[\"gdpPercap\"],data[\"lifeExp\"],\n",
    "            alpha=0.4,\n",
    "            s=25+data[\"pop\"]/100000,\n",
    "            c=colors)\n",
    "\n",
    "##Add grid lines \n",
    "plt.grid(True, lw = 1, ls = '--', c = '.75')\n",
    "\n",
    "## Label dots with country names\n",
    "for i in range(n):\n",
    " plt.text(data[\"gdpPercap\"][i],data[\"lifeExp\"][i]+0.5, data[\"country\"][i],fontSize=7+data[\"pop\"][i]/(10000000+12000000))\n",
    "\n",
    "##Add axes labels\n",
    "plt.xlabel(\"GDP per Capital\")\n",
    "plt.ylabel(\"Life expectancy in years\")\n",
    "\n",
    "## Show the plot \n",
    "plt.show()"
   ]
  }
 ],
 "metadata": {
  "kernelspec": {
   "display_name": "Python 3",
   "language": "python",
   "name": "python3"
  },
  "language_info": {
   "codemirror_mode": {
    "name": "ipython",
    "version": 3
   },
   "file_extension": ".py",
   "mimetype": "text/x-python",
   "name": "python",
   "nbconvert_exporter": "python",
   "pygments_lexer": "ipython3",
   "version": "3.7.0"
  }
 },
 "nbformat": 4,
 "nbformat_minor": 2
}
